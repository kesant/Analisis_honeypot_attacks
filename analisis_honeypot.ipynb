{
  "nbformat": 4,
  "nbformat_minor": 0,
  "metadata": {
    "colab": {
      "provenance": []
    },
    "kernelspec": {
      "name": "python3",
      "display_name": "Python 3"
    },
    "language_info": {
      "name": "python"
    }
  },
  "cells": [
    {
      "cell_type": "markdown",
      "source": [
        "**IMPORTAMOS LAS LIBRERIAS**"
      ],
      "metadata": {
        "id": "lYldN-H49IfH"
      }
    },
    {
      "cell_type": "code",
      "execution_count": 2,
      "metadata": {
        "id": "ZyZVIcKwS3c-"
      },
      "outputs": [],
      "source": [
        "import pandas as pd\n",
        "import numpy as np\n",
        "import datetime\n",
        "import matplotlib\n",
        "import matplotlib.pyplot as plt\n",
        "import seaborn as sns\n",
        "import calendar\n",
        "import csv\n",
        "import statsmodels.api as sm\n",
        "import scipy.stats as stats\n",
        "\n",
        "import copy"
      ]
    },
    {
      "cell_type": "markdown",
      "source": [
        "**LEER EL DATASET**"
      ],
      "metadata": {
        "id": "bkaVrx1tA966"
      }
    },
    {
      "cell_type": "code",
      "source": [
        "with open(\"/content/dionaeaClean2.csv\") as data_file:\n",
        "    # it akes the file and read it and output the data\n",
        "    data=csv.reader(data_file)\n",
        "    #it create an csv.reader object that can be iterable to loop throught\n",
        "    dic={}\n",
        "    count=0\n",
        "    cabecera=[]\n",
        "    valor_1=[]\n",
        "    for row in data :\n",
        "        if count==0:\n",
        "          cabecera=row\n",
        "          for dato in range(len(row)):\n",
        "            dic[cabecera[dato]]=[]\n",
        "          count+=1\n",
        "          continue\n",
        "        if count==1:\n",
        "          count+=1\n",
        "          for valor_dic in range(len(cabecera)):\n",
        "            dic[cabecera[valor_dic]]=[row[valor_dic]]\n",
        "          continue\n",
        "        for valor_dic in range(len(cabecera)):\n",
        "          dic[cabecera[valor_dic]].append(row[valor_dic])\n",
        "\n",
        "\n"
      ],
      "metadata": {
        "id": "N4l6j2jq_6ug"
      },
      "execution_count": 3,
      "outputs": []
    },
    {
      "cell_type": "code",
      "source": [
        "df=pd.DataFrame(dic)\n",
        "df.head()"
      ],
      "metadata": {
        "colab": {
          "base_uri": "https://localhost:8080/",
          "height": 206
        },
        "id": "rnkwB0snpBYc",
        "outputId": "8a808703-f0b0-4081-c0eb-5e85b9d0ff5b"
      },
      "execution_count": 4,
      "outputs": [
        {
          "output_type": "execute_result",
          "data": {
            "text/plain": [
              "  protocol  transport     type  dst_port          src_ip  src_port  \\\n",
              "0     smbd        tcp   accept       445   62.74.213.178      1176   \n",
              "1     smbd        tcp   accept       445   62.74.213.178      1202   \n",
              "2     smbd        tcp   accept       445   62.74.213.178      1255   \n",
              "3     smbd        tcp   accept       445   62.74.213.178      1283   \n",
              "4     smbd        tcp   accept       445   62.74.213.178      1313   \n",
              "\n",
              "                     timestamp  \n",
              "0   2022-05-07T15:08:48.091297  \n",
              "1   2022-05-07T15:08:48.869184  \n",
              "2   2022-05-07T15:08:50.198560  \n",
              "3   2022-05-07T15:08:50.904213  \n",
              "4   2022-05-07T15:08:51.603572  "
            ],
            "text/html": [
              "\n",
              "  <div id=\"df-b5fd7dd3-e279-4923-a569-e48b2bc5a43f\">\n",
              "    <div class=\"colab-df-container\">\n",
              "      <div>\n",
              "<style scoped>\n",
              "    .dataframe tbody tr th:only-of-type {\n",
              "        vertical-align: middle;\n",
              "    }\n",
              "\n",
              "    .dataframe tbody tr th {\n",
              "        vertical-align: top;\n",
              "    }\n",
              "\n",
              "    .dataframe thead th {\n",
              "        text-align: right;\n",
              "    }\n",
              "</style>\n",
              "<table border=\"1\" class=\"dataframe\">\n",
              "  <thead>\n",
              "    <tr style=\"text-align: right;\">\n",
              "      <th></th>\n",
              "      <th>protocol</th>\n",
              "      <th>transport</th>\n",
              "      <th>type</th>\n",
              "      <th>dst_port</th>\n",
              "      <th>src_ip</th>\n",
              "      <th>src_port</th>\n",
              "      <th>timestamp</th>\n",
              "    </tr>\n",
              "  </thead>\n",
              "  <tbody>\n",
              "    <tr>\n",
              "      <th>0</th>\n",
              "      <td>smbd</td>\n",
              "      <td>tcp</td>\n",
              "      <td>accept</td>\n",
              "      <td>445</td>\n",
              "      <td>62.74.213.178</td>\n",
              "      <td>1176</td>\n",
              "      <td>2022-05-07T15:08:48.091297</td>\n",
              "    </tr>\n",
              "    <tr>\n",
              "      <th>1</th>\n",
              "      <td>smbd</td>\n",
              "      <td>tcp</td>\n",
              "      <td>accept</td>\n",
              "      <td>445</td>\n",
              "      <td>62.74.213.178</td>\n",
              "      <td>1202</td>\n",
              "      <td>2022-05-07T15:08:48.869184</td>\n",
              "    </tr>\n",
              "    <tr>\n",
              "      <th>2</th>\n",
              "      <td>smbd</td>\n",
              "      <td>tcp</td>\n",
              "      <td>accept</td>\n",
              "      <td>445</td>\n",
              "      <td>62.74.213.178</td>\n",
              "      <td>1255</td>\n",
              "      <td>2022-05-07T15:08:50.198560</td>\n",
              "    </tr>\n",
              "    <tr>\n",
              "      <th>3</th>\n",
              "      <td>smbd</td>\n",
              "      <td>tcp</td>\n",
              "      <td>accept</td>\n",
              "      <td>445</td>\n",
              "      <td>62.74.213.178</td>\n",
              "      <td>1283</td>\n",
              "      <td>2022-05-07T15:08:50.904213</td>\n",
              "    </tr>\n",
              "    <tr>\n",
              "      <th>4</th>\n",
              "      <td>smbd</td>\n",
              "      <td>tcp</td>\n",
              "      <td>accept</td>\n",
              "      <td>445</td>\n",
              "      <td>62.74.213.178</td>\n",
              "      <td>1313</td>\n",
              "      <td>2022-05-07T15:08:51.603572</td>\n",
              "    </tr>\n",
              "  </tbody>\n",
              "</table>\n",
              "</div>\n",
              "      <button class=\"colab-df-convert\" onclick=\"convertToInteractive('df-b5fd7dd3-e279-4923-a569-e48b2bc5a43f')\"\n",
              "              title=\"Convert this dataframe to an interactive table.\"\n",
              "              style=\"display:none;\">\n",
              "        \n",
              "  <svg xmlns=\"http://www.w3.org/2000/svg\" height=\"24px\"viewBox=\"0 0 24 24\"\n",
              "       width=\"24px\">\n",
              "    <path d=\"M0 0h24v24H0V0z\" fill=\"none\"/>\n",
              "    <path d=\"M18.56 5.44l.94 2.06.94-2.06 2.06-.94-2.06-.94-.94-2.06-.94 2.06-2.06.94zm-11 1L8.5 8.5l.94-2.06 2.06-.94-2.06-.94L8.5 2.5l-.94 2.06-2.06.94zm10 10l.94 2.06.94-2.06 2.06-.94-2.06-.94-.94-2.06-.94 2.06-2.06.94z\"/><path d=\"M17.41 7.96l-1.37-1.37c-.4-.4-.92-.59-1.43-.59-.52 0-1.04.2-1.43.59L10.3 9.45l-7.72 7.72c-.78.78-.78 2.05 0 2.83L4 21.41c.39.39.9.59 1.41.59.51 0 1.02-.2 1.41-.59l7.78-7.78 2.81-2.81c.8-.78.8-2.07 0-2.86zM5.41 20L4 18.59l7.72-7.72 1.47 1.35L5.41 20z\"/>\n",
              "  </svg>\n",
              "      </button>\n",
              "      \n",
              "  <style>\n",
              "    .colab-df-container {\n",
              "      display:flex;\n",
              "      flex-wrap:wrap;\n",
              "      gap: 12px;\n",
              "    }\n",
              "\n",
              "    .colab-df-convert {\n",
              "      background-color: #E8F0FE;\n",
              "      border: none;\n",
              "      border-radius: 50%;\n",
              "      cursor: pointer;\n",
              "      display: none;\n",
              "      fill: #1967D2;\n",
              "      height: 32px;\n",
              "      padding: 0 0 0 0;\n",
              "      width: 32px;\n",
              "    }\n",
              "\n",
              "    .colab-df-convert:hover {\n",
              "      background-color: #E2EBFA;\n",
              "      box-shadow: 0px 1px 2px rgba(60, 64, 67, 0.3), 0px 1px 3px 1px rgba(60, 64, 67, 0.15);\n",
              "      fill: #174EA6;\n",
              "    }\n",
              "\n",
              "    [theme=dark] .colab-df-convert {\n",
              "      background-color: #3B4455;\n",
              "      fill: #D2E3FC;\n",
              "    }\n",
              "\n",
              "    [theme=dark] .colab-df-convert:hover {\n",
              "      background-color: #434B5C;\n",
              "      box-shadow: 0px 1px 3px 1px rgba(0, 0, 0, 0.15);\n",
              "      filter: drop-shadow(0px 1px 2px rgba(0, 0, 0, 0.3));\n",
              "      fill: #FFFFFF;\n",
              "    }\n",
              "  </style>\n",
              "\n",
              "      <script>\n",
              "        const buttonEl =\n",
              "          document.querySelector('#df-b5fd7dd3-e279-4923-a569-e48b2bc5a43f button.colab-df-convert');\n",
              "        buttonEl.style.display =\n",
              "          google.colab.kernel.accessAllowed ? 'block' : 'none';\n",
              "\n",
              "        async function convertToInteractive(key) {\n",
              "          const element = document.querySelector('#df-b5fd7dd3-e279-4923-a569-e48b2bc5a43f');\n",
              "          const dataTable =\n",
              "            await google.colab.kernel.invokeFunction('convertToInteractive',\n",
              "                                                     [key], {});\n",
              "          if (!dataTable) return;\n",
              "\n",
              "          const docLinkHtml = 'Like what you see? Visit the ' +\n",
              "            '<a target=\"_blank\" href=https://colab.research.google.com/notebooks/data_table.ipynb>data table notebook</a>'\n",
              "            + ' to learn more about interactive tables.';\n",
              "          element.innerHTML = '';\n",
              "          dataTable['output_type'] = 'display_data';\n",
              "          await google.colab.output.renderOutput(dataTable, element);\n",
              "          const docLink = document.createElement('div');\n",
              "          docLink.innerHTML = docLinkHtml;\n",
              "          element.appendChild(docLink);\n",
              "        }\n",
              "      </script>\n",
              "    </div>\n",
              "  </div>\n",
              "  "
            ]
          },
          "metadata": {},
          "execution_count": 4
        }
      ]
    },
    {
      "cell_type": "code",
      "source": [
        "df.shape#las dimensiones del dataframe"
      ],
      "metadata": {
        "colab": {
          "base_uri": "https://localhost:8080/"
        },
        "id": "0b9ZqAo_f7Gm",
        "outputId": "4e2ead1a-3283-44fc-9c6d-aeaef5ee96d2"
      },
      "execution_count": 9,
      "outputs": [
        {
          "output_type": "execute_result",
          "data": {
            "text/plain": [
              "(27574, 8)"
            ]
          },
          "metadata": {},
          "execution_count": 9
        }
      ]
    },
    {
      "cell_type": "code",
      "source": [
        "df.info()#obtenemos la informacion sobre el tipo de dato"
      ],
      "metadata": {
        "colab": {
          "base_uri": "https://localhost:8080/"
        },
        "id": "5NdWvHLDf9Yx",
        "outputId": "a1650f2d-d27d-4827-941c-1cb50290d7d6"
      },
      "execution_count": 10,
      "outputs": [
        {
          "output_type": "stream",
          "name": "stdout",
          "text": [
            "<class 'pandas.core.frame.DataFrame'>\n",
            "RangeIndex: 27574 entries, 0 to 27573\n",
            "Data columns (total 8 columns):\n",
            " #   Column      Non-Null Count  Dtype         \n",
            "---  ------      --------------  -----         \n",
            " 0   protocol    27574 non-null  object        \n",
            " 1    transport  27574 non-null  object        \n",
            " 2    type       27574 non-null  object        \n",
            " 3    dst_port   27574 non-null  object        \n",
            " 4    src_ip     27574 non-null  object        \n",
            " 5    src_port   27574 non-null  object        \n",
            " 6    timestamp  27574 non-null  datetime64[ns]\n",
            " 7   HOUR        27574 non-null  int64         \n",
            "dtypes: datetime64[ns](1), int64(1), object(6)\n",
            "memory usage: 1.7+ MB\n"
          ]
        }
      ]
    },
    {
      "cell_type": "markdown",
      "source": [
        "**VERIFICAMOS VALORES FALTANTES**"
      ],
      "metadata": {
        "id": "xgqptBs-qY5S"
      }
    },
    {
      "cell_type": "code",
      "source": [
        "df.isna().sum()#observamos los valors no nulos"
      ],
      "metadata": {
        "colab": {
          "base_uri": "https://localhost:8080/"
        },
        "id": "GIajVV0wyk2a",
        "outputId": "d75f4daf-e3ca-4c49-c964-8a601551ec99"
      },
      "execution_count": 11,
      "outputs": [
        {
          "output_type": "execute_result",
          "data": {
            "text/plain": [
              "protocol      0\n",
              " transport    0\n",
              " type         0\n",
              " dst_port     0\n",
              " src_ip       0\n",
              " src_port     0\n",
              " timestamp    0\n",
              "HOUR          0\n",
              "dtype: int64"
            ]
          },
          "metadata": {},
          "execution_count": 11
        }
      ]
    },
    {
      "cell_type": "code",
      "source": [
        "#cambiamos el tipo de dato a datatime para que sea mas facil de manejar\n",
        "df[' timestamp']= pd.to_datetime(df[' timestamp'], format=\"%Y-%m-%dT%H:%M:%S.%f\")\n",
        "hora=[]\n",
        "for x in df[' timestamp']:\n",
        "    hora.append(x.hour)\n",
        "df['HOUR']=hora\n"
      ],
      "metadata": {
        "id": "7URrVplqz3RZ"
      },
      "execution_count": 12,
      "outputs": []
    },
    {
      "cell_type": "code",
      "source": [
        "df.head()"
      ],
      "metadata": {
        "colab": {
          "base_uri": "https://localhost:8080/",
          "height": 206
        },
        "id": "YTFw1vLGzzv7",
        "outputId": "18b6317f-cd96-4bc4-8e69-71c045c79f85"
      },
      "execution_count": 13,
      "outputs": [
        {
          "output_type": "execute_result",
          "data": {
            "text/plain": [
              "  protocol  transport     type  dst_port          src_ip  src_port  \\\n",
              "0     smbd        tcp   accept       445   62.74.213.178      1176   \n",
              "1     smbd        tcp   accept       445   62.74.213.178      1202   \n",
              "2     smbd        tcp   accept       445   62.74.213.178      1255   \n",
              "3     smbd        tcp   accept       445   62.74.213.178      1283   \n",
              "4     smbd        tcp   accept       445   62.74.213.178      1313   \n",
              "\n",
              "                   timestamp  HOUR  \n",
              "0 2022-05-07 15:08:48.091297    15  \n",
              "1 2022-05-07 15:08:48.869184    15  \n",
              "2 2022-05-07 15:08:50.198560    15  \n",
              "3 2022-05-07 15:08:50.904213    15  \n",
              "4 2022-05-07 15:08:51.603572    15  "
            ],
            "text/html": [
              "\n",
              "  <div id=\"df-d302e1d0-76a2-4040-9b0c-09145d7b8128\">\n",
              "    <div class=\"colab-df-container\">\n",
              "      <div>\n",
              "<style scoped>\n",
              "    .dataframe tbody tr th:only-of-type {\n",
              "        vertical-align: middle;\n",
              "    }\n",
              "\n",
              "    .dataframe tbody tr th {\n",
              "        vertical-align: top;\n",
              "    }\n",
              "\n",
              "    .dataframe thead th {\n",
              "        text-align: right;\n",
              "    }\n",
              "</style>\n",
              "<table border=\"1\" class=\"dataframe\">\n",
              "  <thead>\n",
              "    <tr style=\"text-align: right;\">\n",
              "      <th></th>\n",
              "      <th>protocol</th>\n",
              "      <th>transport</th>\n",
              "      <th>type</th>\n",
              "      <th>dst_port</th>\n",
              "      <th>src_ip</th>\n",
              "      <th>src_port</th>\n",
              "      <th>timestamp</th>\n",
              "      <th>HOUR</th>\n",
              "    </tr>\n",
              "  </thead>\n",
              "  <tbody>\n",
              "    <tr>\n",
              "      <th>0</th>\n",
              "      <td>smbd</td>\n",
              "      <td>tcp</td>\n",
              "      <td>accept</td>\n",
              "      <td>445</td>\n",
              "      <td>62.74.213.178</td>\n",
              "      <td>1176</td>\n",
              "      <td>2022-05-07 15:08:48.091297</td>\n",
              "      <td>15</td>\n",
              "    </tr>\n",
              "    <tr>\n",
              "      <th>1</th>\n",
              "      <td>smbd</td>\n",
              "      <td>tcp</td>\n",
              "      <td>accept</td>\n",
              "      <td>445</td>\n",
              "      <td>62.74.213.178</td>\n",
              "      <td>1202</td>\n",
              "      <td>2022-05-07 15:08:48.869184</td>\n",
              "      <td>15</td>\n",
              "    </tr>\n",
              "    <tr>\n",
              "      <th>2</th>\n",
              "      <td>smbd</td>\n",
              "      <td>tcp</td>\n",
              "      <td>accept</td>\n",
              "      <td>445</td>\n",
              "      <td>62.74.213.178</td>\n",
              "      <td>1255</td>\n",
              "      <td>2022-05-07 15:08:50.198560</td>\n",
              "      <td>15</td>\n",
              "    </tr>\n",
              "    <tr>\n",
              "      <th>3</th>\n",
              "      <td>smbd</td>\n",
              "      <td>tcp</td>\n",
              "      <td>accept</td>\n",
              "      <td>445</td>\n",
              "      <td>62.74.213.178</td>\n",
              "      <td>1283</td>\n",
              "      <td>2022-05-07 15:08:50.904213</td>\n",
              "      <td>15</td>\n",
              "    </tr>\n",
              "    <tr>\n",
              "      <th>4</th>\n",
              "      <td>smbd</td>\n",
              "      <td>tcp</td>\n",
              "      <td>accept</td>\n",
              "      <td>445</td>\n",
              "      <td>62.74.213.178</td>\n",
              "      <td>1313</td>\n",
              "      <td>2022-05-07 15:08:51.603572</td>\n",
              "      <td>15</td>\n",
              "    </tr>\n",
              "  </tbody>\n",
              "</table>\n",
              "</div>\n",
              "      <button class=\"colab-df-convert\" onclick=\"convertToInteractive('df-d302e1d0-76a2-4040-9b0c-09145d7b8128')\"\n",
              "              title=\"Convert this dataframe to an interactive table.\"\n",
              "              style=\"display:none;\">\n",
              "        \n",
              "  <svg xmlns=\"http://www.w3.org/2000/svg\" height=\"24px\"viewBox=\"0 0 24 24\"\n",
              "       width=\"24px\">\n",
              "    <path d=\"M0 0h24v24H0V0z\" fill=\"none\"/>\n",
              "    <path d=\"M18.56 5.44l.94 2.06.94-2.06 2.06-.94-2.06-.94-.94-2.06-.94 2.06-2.06.94zm-11 1L8.5 8.5l.94-2.06 2.06-.94-2.06-.94L8.5 2.5l-.94 2.06-2.06.94zm10 10l.94 2.06.94-2.06 2.06-.94-2.06-.94-.94-2.06-.94 2.06-2.06.94z\"/><path d=\"M17.41 7.96l-1.37-1.37c-.4-.4-.92-.59-1.43-.59-.52 0-1.04.2-1.43.59L10.3 9.45l-7.72 7.72c-.78.78-.78 2.05 0 2.83L4 21.41c.39.39.9.59 1.41.59.51 0 1.02-.2 1.41-.59l7.78-7.78 2.81-2.81c.8-.78.8-2.07 0-2.86zM5.41 20L4 18.59l7.72-7.72 1.47 1.35L5.41 20z\"/>\n",
              "  </svg>\n",
              "      </button>\n",
              "      \n",
              "  <style>\n",
              "    .colab-df-container {\n",
              "      display:flex;\n",
              "      flex-wrap:wrap;\n",
              "      gap: 12px;\n",
              "    }\n",
              "\n",
              "    .colab-df-convert {\n",
              "      background-color: #E8F0FE;\n",
              "      border: none;\n",
              "      border-radius: 50%;\n",
              "      cursor: pointer;\n",
              "      display: none;\n",
              "      fill: #1967D2;\n",
              "      height: 32px;\n",
              "      padding: 0 0 0 0;\n",
              "      width: 32px;\n",
              "    }\n",
              "\n",
              "    .colab-df-convert:hover {\n",
              "      background-color: #E2EBFA;\n",
              "      box-shadow: 0px 1px 2px rgba(60, 64, 67, 0.3), 0px 1px 3px 1px rgba(60, 64, 67, 0.15);\n",
              "      fill: #174EA6;\n",
              "    }\n",
              "\n",
              "    [theme=dark] .colab-df-convert {\n",
              "      background-color: #3B4455;\n",
              "      fill: #D2E3FC;\n",
              "    }\n",
              "\n",
              "    [theme=dark] .colab-df-convert:hover {\n",
              "      background-color: #434B5C;\n",
              "      box-shadow: 0px 1px 3px 1px rgba(0, 0, 0, 0.15);\n",
              "      filter: drop-shadow(0px 1px 2px rgba(0, 0, 0, 0.3));\n",
              "      fill: #FFFFFF;\n",
              "    }\n",
              "  </style>\n",
              "\n",
              "      <script>\n",
              "        const buttonEl =\n",
              "          document.querySelector('#df-d302e1d0-76a2-4040-9b0c-09145d7b8128 button.colab-df-convert');\n",
              "        buttonEl.style.display =\n",
              "          google.colab.kernel.accessAllowed ? 'block' : 'none';\n",
              "\n",
              "        async function convertToInteractive(key) {\n",
              "          const element = document.querySelector('#df-d302e1d0-76a2-4040-9b0c-09145d7b8128');\n",
              "          const dataTable =\n",
              "            await google.colab.kernel.invokeFunction('convertToInteractive',\n",
              "                                                     [key], {});\n",
              "          if (!dataTable) return;\n",
              "\n",
              "          const docLinkHtml = 'Like what you see? Visit the ' +\n",
              "            '<a target=\"_blank\" href=https://colab.research.google.com/notebooks/data_table.ipynb>data table notebook</a>'\n",
              "            + ' to learn more about interactive tables.';\n",
              "          element.innerHTML = '';\n",
              "          dataTable['output_type'] = 'display_data';\n",
              "          await google.colab.output.renderOutput(dataTable, element);\n",
              "          const docLink = document.createElement('div');\n",
              "          docLink.innerHTML = docLinkHtml;\n",
              "          element.appendChild(docLink);\n",
              "        }\n",
              "      </script>\n",
              "    </div>\n",
              "  </div>\n",
              "  "
            ]
          },
          "metadata": {},
          "execution_count": 13
        }
      ]
    },
    {
      "cell_type": "markdown",
      "source": [
        "**ANALISIS DESCRIPTIVO**"
      ],
      "metadata": {
        "id": "bHBUPnbojdIr"
      }
    },
    {
      "cell_type": "code",
      "source": [
        "df.describe().T#obtenemos un analisis estadistico de los valores del dataframe"
      ],
      "metadata": {
        "colab": {
          "base_uri": "https://localhost:8080/",
          "height": 81
        },
        "id": "TD-l73k4hoSr",
        "outputId": "1a189827-131c-4ffa-9508-ec638069d7eb"
      },
      "execution_count": 14,
      "outputs": [
        {
          "output_type": "execute_result",
          "data": {
            "text/plain": [
              "        count       mean      std  min   25%   50%   75%   max\n",
              "HOUR  27574.0  17.858272  4.96394  0.0  17.0  18.0  22.0  23.0"
            ],
            "text/html": [
              "\n",
              "  <div id=\"df-3981bd5b-dc6b-4c76-8ebf-4691a4be4ba3\">\n",
              "    <div class=\"colab-df-container\">\n",
              "      <div>\n",
              "<style scoped>\n",
              "    .dataframe tbody tr th:only-of-type {\n",
              "        vertical-align: middle;\n",
              "    }\n",
              "\n",
              "    .dataframe tbody tr th {\n",
              "        vertical-align: top;\n",
              "    }\n",
              "\n",
              "    .dataframe thead th {\n",
              "        text-align: right;\n",
              "    }\n",
              "</style>\n",
              "<table border=\"1\" class=\"dataframe\">\n",
              "  <thead>\n",
              "    <tr style=\"text-align: right;\">\n",
              "      <th></th>\n",
              "      <th>count</th>\n",
              "      <th>mean</th>\n",
              "      <th>std</th>\n",
              "      <th>min</th>\n",
              "      <th>25%</th>\n",
              "      <th>50%</th>\n",
              "      <th>75%</th>\n",
              "      <th>max</th>\n",
              "    </tr>\n",
              "  </thead>\n",
              "  <tbody>\n",
              "    <tr>\n",
              "      <th>HOUR</th>\n",
              "      <td>27574.0</td>\n",
              "      <td>17.858272</td>\n",
              "      <td>4.96394</td>\n",
              "      <td>0.0</td>\n",
              "      <td>17.0</td>\n",
              "      <td>18.0</td>\n",
              "      <td>22.0</td>\n",
              "      <td>23.0</td>\n",
              "    </tr>\n",
              "  </tbody>\n",
              "</table>\n",
              "</div>\n",
              "      <button class=\"colab-df-convert\" onclick=\"convertToInteractive('df-3981bd5b-dc6b-4c76-8ebf-4691a4be4ba3')\"\n",
              "              title=\"Convert this dataframe to an interactive table.\"\n",
              "              style=\"display:none;\">\n",
              "        \n",
              "  <svg xmlns=\"http://www.w3.org/2000/svg\" height=\"24px\"viewBox=\"0 0 24 24\"\n",
              "       width=\"24px\">\n",
              "    <path d=\"M0 0h24v24H0V0z\" fill=\"none\"/>\n",
              "    <path d=\"M18.56 5.44l.94 2.06.94-2.06 2.06-.94-2.06-.94-.94-2.06-.94 2.06-2.06.94zm-11 1L8.5 8.5l.94-2.06 2.06-.94-2.06-.94L8.5 2.5l-.94 2.06-2.06.94zm10 10l.94 2.06.94-2.06 2.06-.94-2.06-.94-.94-2.06-.94 2.06-2.06.94z\"/><path d=\"M17.41 7.96l-1.37-1.37c-.4-.4-.92-.59-1.43-.59-.52 0-1.04.2-1.43.59L10.3 9.45l-7.72 7.72c-.78.78-.78 2.05 0 2.83L4 21.41c.39.39.9.59 1.41.59.51 0 1.02-.2 1.41-.59l7.78-7.78 2.81-2.81c.8-.78.8-2.07 0-2.86zM5.41 20L4 18.59l7.72-7.72 1.47 1.35L5.41 20z\"/>\n",
              "  </svg>\n",
              "      </button>\n",
              "      \n",
              "  <style>\n",
              "    .colab-df-container {\n",
              "      display:flex;\n",
              "      flex-wrap:wrap;\n",
              "      gap: 12px;\n",
              "    }\n",
              "\n",
              "    .colab-df-convert {\n",
              "      background-color: #E8F0FE;\n",
              "      border: none;\n",
              "      border-radius: 50%;\n",
              "      cursor: pointer;\n",
              "      display: none;\n",
              "      fill: #1967D2;\n",
              "      height: 32px;\n",
              "      padding: 0 0 0 0;\n",
              "      width: 32px;\n",
              "    }\n",
              "\n",
              "    .colab-df-convert:hover {\n",
              "      background-color: #E2EBFA;\n",
              "      box-shadow: 0px 1px 2px rgba(60, 64, 67, 0.3), 0px 1px 3px 1px rgba(60, 64, 67, 0.15);\n",
              "      fill: #174EA6;\n",
              "    }\n",
              "\n",
              "    [theme=dark] .colab-df-convert {\n",
              "      background-color: #3B4455;\n",
              "      fill: #D2E3FC;\n",
              "    }\n",
              "\n",
              "    [theme=dark] .colab-df-convert:hover {\n",
              "      background-color: #434B5C;\n",
              "      box-shadow: 0px 1px 3px 1px rgba(0, 0, 0, 0.15);\n",
              "      filter: drop-shadow(0px 1px 2px rgba(0, 0, 0, 0.3));\n",
              "      fill: #FFFFFF;\n",
              "    }\n",
              "  </style>\n",
              "\n",
              "      <script>\n",
              "        const buttonEl =\n",
              "          document.querySelector('#df-3981bd5b-dc6b-4c76-8ebf-4691a4be4ba3 button.colab-df-convert');\n",
              "        buttonEl.style.display =\n",
              "          google.colab.kernel.accessAllowed ? 'block' : 'none';\n",
              "\n",
              "        async function convertToInteractive(key) {\n",
              "          const element = document.querySelector('#df-3981bd5b-dc6b-4c76-8ebf-4691a4be4ba3');\n",
              "          const dataTable =\n",
              "            await google.colab.kernel.invokeFunction('convertToInteractive',\n",
              "                                                     [key], {});\n",
              "          if (!dataTable) return;\n",
              "\n",
              "          const docLinkHtml = 'Like what you see? Visit the ' +\n",
              "            '<a target=\"_blank\" href=https://colab.research.google.com/notebooks/data_table.ipynb>data table notebook</a>'\n",
              "            + ' to learn more about interactive tables.';\n",
              "          element.innerHTML = '';\n",
              "          dataTable['output_type'] = 'display_data';\n",
              "          await google.colab.output.renderOutput(dataTable, element);\n",
              "          const docLink = document.createElement('div');\n",
              "          docLink.innerHTML = docLinkHtml;\n",
              "          element.appendChild(docLink);\n",
              "        }\n",
              "      </script>\n",
              "    </div>\n",
              "  </div>\n",
              "  "
            ]
          },
          "metadata": {},
          "execution_count": 14
        }
      ]
    },
    {
      "cell_type": "code",
      "source": [
        "plt.figure(figsize= (20,15))\n",
        "sns.boxplot(x= df['HOUR'], color='lightblue')\n"
      ],
      "metadata": {
        "colab": {
          "base_uri": "https://localhost:8080/",
          "height": 275
        },
        "id": "pQBqMGBEuany",
        "outputId": "7fcb060e-ee08-4a5f-bd69-85761c44cc2a"
      },
      "execution_count": null,
      "outputs": [
        {
          "output_type": "execute_result",
          "data": {
            "text/plain": [
              "<Axes: xlabel='HOUR'>"
            ]
          },
          "metadata": {},
          "execution_count": 99
        },
        {
          "output_type": "display_data",
          "data": {
            "text/plain": [
              "<Figure size 2000x1500 with 1 Axes>"
            ],
            "image/png": "[encoded data removed]"
          },
          "metadata": {}
        }
      ]
    },
    {
      "cell_type": "markdown",
      "source": [
        "observamos que el 50% de los ataques se realizaron durante las 5pm a 10pm"
      ],
      "metadata": {
        "id": "22H25AKmpyPW"
      }
    },
    {
      "cell_type": "markdown",
      "source": [
        "**Protocolos**"
      ],
      "metadata": {
        "id": "Vf6Ud-oCzfZL"
      }
    },
    {
      "cell_type": "code",
      "source": [
        "df['protocol'].value_counts()#obtenemos los protocolos y su conteo"
      ],
      "metadata": {
        "colab": {
          "base_uri": "https://localhost:8080/"
        },
        "id": "pCdTI0GDkGvA",
        "outputId": "a259b8c2-c6f9-4d0a-be36-8af68720be69"
      },
      "execution_count": 15,
      "outputs": [
        {
          "output_type": "execute_result",
          "data": {
            "text/plain": [
              "smbd        27433\n",
              "mssqld         62\n",
              "httpd          48\n",
              "mysqld          8\n",
              "pptpd           6\n",
              "ftpd            5\n",
              "mongod          5\n",
              "epmapper        5\n",
              "mqttd           2\n",
              "Name: protocol, dtype: int64"
            ]
          },
          "metadata": {},
          "execution_count": 15
        }
      ]
    },
    {
      "cell_type": "code",
      "source": [
        "df['protocol'].value_counts().plot(kind='bar')\n",
        "plt.title('frecuencia de los protocolos')\n",
        "plt.xlabel(\"protocolo\")\n",
        "plt.ylabel(\"frecuencia\")"
      ],
      "metadata": {
        "colab": {
          "base_uri": "https://localhost:8080/",
          "height": 546
        },
        "id": "Bv0DTJTZgSa6",
        "outputId": "b8ae91a1-d0b8-45af-cca1-dd7f034bb389"
      },
      "execution_count": 16,
      "outputs": [
        {
          "output_type": "execute_result",
          "data": {
            "text/plain": [
              "Text(0, 0.5, 'frecuencia')"
            ]
          },
          "metadata": {},
          "execution_count": 16
        },
        {
          "output_type": "display_data",
          "data": {
            "text/plain": [
              "<Figure size 640x480 with 1 Axes>"
            ],
            "image/png": "[encoded data removed]"
          },
          "metadata": {}
        }
      ]
    },
    {
      "cell_type": "markdown",
      "source": [
        "El protocolo \"Smbd\" es el mas frecuente en el dataset , este protocolo es el Server Message Block (SMB), que se utiliza para compartir archivos e impresoras en redes, tambien tenemos que los protocolos  \"mssqld\", \"httpd\" y \"mysqld\", tienen un número mucho menor de ocurrencias."
      ],
      "metadata": {
        "id": "2W2DvuVozi9E"
      }
    },
    {
      "cell_type": "markdown",
      "source": [
        "**Transporte**"
      ],
      "metadata": {
        "id": "fQKcz5pJz92T"
      }
    },
    {
      "cell_type": "code",
      "source": [
        "df[' transport'].value_counts()#verificamos los metodos de transporte que se estan utilizando"
      ],
      "metadata": {
        "colab": {
          "base_uri": "https://localhost:8080/"
        },
        "id": "OmVcwTi6lYEz",
        "outputId": "cec10558-10d6-4d27-afc7-0210cd3c9c61"
      },
      "execution_count": 17,
      "outputs": [
        {
          "output_type": "execute_result",
          "data": {
            "text/plain": [
              " tcp    27574\n",
              "Name:  transport, dtype: int64"
            ]
          },
          "metadata": {},
          "execution_count": 17
        }
      ]
    },
    {
      "cell_type": "markdown",
      "source": [
        "EL protocolo de transporte \"tcp\" es el unico mencionado en el dataset\n"
      ],
      "metadata": {
        "id": "8XEz6KLSlk8O"
      }
    },
    {
      "cell_type": "markdown",
      "source": [
        "**Puertos de destino**"
      ],
      "metadata": {
        "id": "uCinglMM0Dq0"
      }
    },
    {
      "cell_type": "code",
      "source": [
        "df[' dst_port'].value_counts()#obtenemos los puertos de destino que estan utilizando"
      ],
      "metadata": {
        "colab": {
          "base_uri": "https://localhost:8080/"
        },
        "id": "bTAgb3JNmv3e",
        "outputId": "93d65568-bbf3-47d1-ad42-593aaed595cd"
      },
      "execution_count": 18,
      "outputs": [
        {
          "output_type": "execute_result",
          "data": {
            "text/plain": [
              " 445      27433\n",
              " 1433        62\n",
              " 81          48\n",
              " 3306         8\n",
              " 1723         6\n",
              " 21           5\n",
              " 27017        5\n",
              " 135          5\n",
              " 1883         2\n",
              "Name:  dst_port, dtype: int64"
            ]
          },
          "metadata": {},
          "execution_count": 18
        }
      ]
    },
    {
      "cell_type": "code",
      "source": [
        "df[' dst_port'].value_counts().plot(kind='bar')\n",
        "plt.title('Frecuencia de los puertos de destino')\n",
        "plt.xlabel('Puertos destino')\n",
        "plt.ylabel('frecuencia')\n"
      ],
      "metadata": {
        "colab": {
          "base_uri": "https://localhost:8080/",
          "height": 523
        },
        "id": "7ICyw7FcoU9s",
        "outputId": "0cc507ca-3c14-4a4d-de1f-c9bb44d13246"
      },
      "execution_count": 19,
      "outputs": [
        {
          "output_type": "execute_result",
          "data": {
            "text/plain": [
              "Text(0, 0.5, 'frecuencia')"
            ]
          },
          "metadata": {},
          "execution_count": 19
        },
        {
          "output_type": "display_data",
          "data": {
            "text/plain": [
              "<Figure size 640x480 with 1 Axes>"
            ],
            "image/png": "[encoded data removed]"
          },
          "metadata": {}
        }
      ]
    },
    {
      "cell_type": "markdown",
      "source": [
        "La alta frecuencia del puerto 445 indica que hubo una gran cantidad de conexiones dirigidas a ese puerto específico, que es comúnmente utilizado por el servicio SMB."
      ],
      "metadata": {
        "id": "6_jZEK3FKs2a"
      }
    },
    {
      "cell_type": "markdown",
      "source": [
        "**Ip de origen**"
      ],
      "metadata": {
        "id": "FSSYjPQk0JVU"
      }
    },
    {
      "cell_type": "code",
      "source": [
        "df[' src_ip'].value_counts()"
      ],
      "metadata": {
        "colab": {
          "base_uri": "https://localhost:8080/"
        },
        "id": "A-KWghG8nWxd",
        "outputId": "9268e087-5b0c-45e3-90c5-ed67dd4e8a68"
      },
      "execution_count": 20,
      "outputs": [
        {
          "output_type": "execute_result",
          "data": {
            "text/plain": [
              " 62.74.213.178      8383\n",
              " 201.65.241.162     3150\n",
              " 186.176.210.229    3148\n",
              " 197.51.208.32      3147\n",
              " 80.75.161.98       3145\n",
              "                    ... \n",
              " 71.6.135.131          1\n",
              " 198.235.24.159        1\n",
              " 104.206.128.22        1\n",
              " 192.241.221.109       1\n",
              " 205.210.31.146        1\n",
              "Name:  src_ip, Length: 101, dtype: int64"
            ]
          },
          "metadata": {},
          "execution_count": 20
        }
      ]
    },
    {
      "cell_type": "code",
      "source": [
        "df[' src_ip'].value_counts().head(10).plot(kind='bar')"
      ],
      "metadata": {
        "colab": {
          "base_uri": "https://localhost:8080/",
          "height": 556
        },
        "id": "LZEQ7A_b_e8T",
        "outputId": "e06c671c-77c1-4869-b93c-c76e65a44581"
      },
      "execution_count": 21,
      "outputs": [
        {
          "output_type": "execute_result",
          "data": {
            "text/plain": [
              "<Axes: >"
            ]
          },
          "metadata": {},
          "execution_count": 21
        },
        {
          "output_type": "display_data",
          "data": {
            "text/plain": [
              "<Figure size 640x480 with 1 Axes>"
            ],
            "image/png": "[encoded data removed]"
          },
          "metadata": {}
        }
      ]
    },
    {
      "cell_type": "markdown",
      "source": [
        "Tenemos 101 Ip unicas\n",
        ",a\n",
        "lgunas direcciones IP tienen una frecuencia significativamente mayor que otras, lo que indica una mayor actividad o tráfico proveniente de esas direcciones específicas."
      ],
      "metadata": {
        "id": "2oJeFvlNLRAi"
      }
    },
    {
      "cell_type": "code",
      "source": [
        "ip_values = df[' src_ip'].value_counts().head(10).index.tolist()\n",
        "horas_conexion = {}\n",
        "for ip in ip_values:\n",
        "\n",
        "    ip_data = df[df[' src_ip'] == ip]\n",
        "\n",
        "\n",
        "    horas = ip_data['HOUR'].tolist()\n",
        "\n",
        "\n",
        "    horas_conexion[ip] = horas\n",
        "\n",
        "\n",
        "for ip, horas in horas_conexion.items():\n",
        "    print(f\"IP: {ip} - Horas de conexión: {list(set(horas))}\")\n"
      ],
      "metadata": {
        "colab": {
          "base_uri": "https://localhost:8080/"
        },
        "id": "xNzpfF89yFWJ",
        "outputId": "50ef4d44-6e26-4178-d184-8bd5f412156b"
      },
      "execution_count": 25,
      "outputs": [
        {
          "output_type": "stream",
          "name": "stdout",
          "text": [
            "IP:  62.74.213.178 - Horas de conexión: [15, 17, 18, 21, 22]\n",
            "IP:  201.65.241.162 - Horas de conexión: [17, 18]\n",
            "IP:  186.176.210.229 - Horas de conexión: [22, 23]\n",
            "IP:  197.51.208.32 - Horas de conexión: [18]\n",
            "IP:  80.75.161.98 - Horas de conexión: [21, 22]\n",
            "IP:  154.115.33.211 - Horas de conexión: [18, 19, 20]\n",
            "IP:  103.61.254.64 - Horas de conexión: [2, 3, 4]\n",
            "IP:  5.190.78.249 - Horas de conexión: [16]\n",
            "IP:  2.60.118.78 - Horas de conexión: [20]\n",
            "IP:  62.197.136.132 - Horas de conexión: [16, 17, 19, 0]\n"
          ]
        }
      ]
    },
    {
      "cell_type": "markdown",
      "source": [
        "se obtuvo las direcciones de ip  que tienen mas frecuencia con la lista de su hora de conexion"
      ],
      "metadata": {
        "id": "aPqEQ2FWAfdi"
      }
    },
    {
      "cell_type": "markdown",
      "source": [
        "**Puerto de origen**"
      ],
      "metadata": {
        "id": "o2dJZ2eY0Pxb"
      }
    },
    {
      "cell_type": "code",
      "source": [
        "df[' src_port'].value_counts()"
      ],
      "metadata": {
        "colab": {
          "base_uri": "https://localhost:8080/"
        },
        "id": "UCUk4J63qDFE",
        "outputId": "a585a180-7ff0-49ba-cae4-5c6b3b67b315"
      },
      "execution_count": 24,
      "outputs": [
        {
          "output_type": "execute_result",
          "data": {
            "text/plain": [
              " 1639     8\n",
              " 3074     8\n",
              " 3338     8\n",
              " 3387     8\n",
              " 1518     8\n",
              "         ..\n",
              " 50473    1\n",
              " 50482    1\n",
              " 50520    1\n",
              " 50523    1\n",
              " 60220    1\n",
              "Name:  src_port, Length: 17582, dtype: int64"
            ]
          },
          "metadata": {},
          "execution_count": 24
        }
      ]
    },
    {
      "cell_type": "markdown",
      "source": [
        "\n",
        "\n",
        "Tenemos 17582 puertos de origen diferentes, al igual que con las direcciones IP de origen, algunos puertos tienen una frecuencia mucho mayor que otros."
      ],
      "metadata": {
        "id": "x3S-glX5Logq"
      }
    }
  ]
}